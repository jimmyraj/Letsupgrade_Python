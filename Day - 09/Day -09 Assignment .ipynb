{
 "cells": [
  {
   "cell_type": "markdown",
   "metadata": {},
   "source": [
    "# Question 1:\n",
    "            Write a python Function for finding is a given number prime or not and do Unit Testing on it using\n",
    "            PyLint and Unittest Library.\n"
   ]
  },
  {
   "cell_type": "code",
   "execution_count": 23,
   "metadata": {},
   "outputs": [
    {
     "name": "stdout",
     "output_type": "stream",
     "text": [
      "Requirement already satisfied: pylint in c:\\programdata\\anaconda3\\lib\\site-packages (2.3.1)\n",
      "Requirement already satisfied: astroid<3,>=2.2.0 in c:\\programdata\\anaconda3\\lib\\site-packages (from pylint) (2.2.5)\n",
      "Requirement already satisfied: isort<5,>=4.2.5 in c:\\programdata\\anaconda3\\lib\\site-packages (from pylint) (4.3.16)\n",
      "Requirement already satisfied: mccabe<0.7,>=0.6 in c:\\programdata\\anaconda3\\lib\\site-packages (from pylint) (0.6.1)\n",
      "Requirement already satisfied: colorama in c:\\programdata\\anaconda3\\lib\\site-packages (from pylint) (0.4.1)\n",
      "Requirement already satisfied: six in c:\\programdata\\anaconda3\\lib\\site-packages (from astroid<3,>=2.2.0->pylint) (1.12.0)\n",
      "Requirement already satisfied: wrapt in c:\\programdata\\anaconda3\\lib\\site-packages (from astroid<3,>=2.2.0->pylint) (1.11.1)\n",
      "Requirement already satisfied: lazy-object-proxy in c:\\programdata\\anaconda3\\lib\\site-packages (from astroid<3,>=2.2.0->pylint) (1.3.1)\n",
      "Collecting typed-ast>=1.3.0; implementation_name == \"cpython\" (from astroid<3,>=2.2.0->pylint)\n",
      "  Downloading https://files.pythonhosted.org/packages/6d/6f/c67eed763bcc095d9187c7a04fdc3ba640d1e990368acfcb1d294ff71549/typed_ast-1.4.1-cp37-cp37m-win_amd64.whl (155kB)\n",
      "Installing collected packages: typed-ast\n",
      "Successfully installed typed-ast-1.4.1\n"
     ]
    }
   ],
   "source": [
    "! pip install pylint"
   ]
  },
  {
   "cell_type": "code",
   "execution_count": 31,
   "metadata": {},
   "outputs": [
    {
     "name": "stdout",
     "output_type": "stream",
     "text": [
      "Overwriting prime.py\n"
     ]
    }
   ],
   "source": [
    "%%writefile prime.py\n",
    "\n",
    "'''\n",
    "Creating a python file for finding whethere the given number is prime number or not.\n",
    "'''\n",
    "\n",
    "def is_prime(given_no):\n",
    "    '''\n",
    "    function to check for prime number.\n",
    "    '''\n",
    "    if given_no >= 1:\n",
    "        for i in range(2, given_no):\n",
    "            if (given_no % i) == 0:\n",
    "                final_result = \"Not Prime\"\n",
    "            else:\n",
    "                final_result = \"Prime\"\n",
    "    else:\n",
    "        final_result = \"Not Prime\"\n",
    "    return final_result"
   ]
  },
  {
   "cell_type": "code",
   "execution_count": 32,
   "metadata": {},
   "outputs": [
    {
     "name": "stdout",
     "output_type": "stream",
     "text": [
      "\n",
      "-------------------------------------------------------------------\n",
      "\n",
      "Your code has been rated at 10.00/10 (previous run: 6.25/10, +3.75)\n",
      "\n",
      "\n",
      "\n"
     ]
    }
   ],
   "source": [
    "! pylint \"prime.py\""
   ]
  },
  {
   "cell_type": "code",
   "execution_count": null,
   "metadata": {},
   "outputs": [],
   "source": []
  },
  {
   "cell_type": "markdown",
   "metadata": {},
   "source": [
    "# Question 2:\n",
    "        Make a small generator program for returning armstrong numbers in between 1-1000 in a\n",
    "        generator object."
   ]
  },
  {
   "cell_type": "code",
   "execution_count": 33,
   "metadata": {},
   "outputs": [],
   "source": [
    "lst = list(range(1, 1001))\n",
    "\n"
   ]
  },
  {
   "cell_type": "code",
   "execution_count": 38,
   "metadata": {},
   "outputs": [],
   "source": [
    "def getclose_to_armnum_Gen(list):\n",
    "\n",
    "    for num in range(1,1001):\n",
    "        temp=num\n",
    "        sum=0\n",
    "        while temp>0:\n",
    "            digit=temp%10\n",
    "            sum=sum+digit**3\n",
    "            temp=temp//10\n",
    "\n",
    "        if sum==num:\n",
    "            yield num"
   ]
  },
  {
   "cell_type": "code",
   "execution_count": 39,
   "metadata": {},
   "outputs": [
    {
     "data": {
      "text/plain": [
       "[1, 153, 370, 371, 407]"
      ]
     },
     "execution_count": 39,
     "metadata": {},
     "output_type": "execute_result"
    }
   ],
   "source": [
    "list(getclose_to_armnum_Gen(lst))"
   ]
  },
  {
   "cell_type": "code",
   "execution_count": null,
   "metadata": {},
   "outputs": [],
   "source": []
  }
 ],
 "metadata": {
  "kernelspec": {
   "display_name": "Python 3",
   "language": "python",
   "name": "python3"
  },
  "language_info": {
   "codemirror_mode": {
    "name": "ipython",
    "version": 3
   },
   "file_extension": ".py",
   "mimetype": "text/x-python",
   "name": "python",
   "nbconvert_exporter": "python",
   "pygments_lexer": "ipython3",
   "version": "3.7.3"
  }
 },
 "nbformat": 4,
 "nbformat_minor": 2
}
