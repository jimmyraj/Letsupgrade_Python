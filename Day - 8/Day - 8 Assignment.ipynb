{
 "cells": [
  {
   "cell_type": "markdown",
   "metadata": {},
   "source": [
    "# Question 1:\n",
    "    \n",
    "        Write a decorator function for your taking input for you any kind of function you want to build,\n",
    "        For example - You make a fibonacci series function,in which your input range is been defined by\n",
    "        the decorator program input.\n"
   ]
  },
  {
   "cell_type": "code",
   "execution_count": 9,
   "metadata": {},
   "outputs": [],
   "source": [
    "def decor(f):\n",
    "    dic = {}\n",
    "    def series(x):\n",
    "        if x not in dic:            \n",
    "            dic[x] = f(x)\n",
    "        return dic[x]\n",
    "    return series"
   ]
  },
  {
   "cell_type": "code",
   "execution_count": 14,
   "metadata": {},
   "outputs": [],
   "source": [
    "def fibo(r):\n",
    "    if r == 0:\n",
    "        return 0\n",
    "    elif r == 1:\n",
    "        return 1\n",
    "    else:\n",
    "        return fibo(r-1) + fibo(r-2)"
   ]
  },
  {
   "cell_type": "code",
   "execution_count": 15,
   "metadata": {},
   "outputs": [],
   "source": [
    "fibonacci = decor(fibo)"
   ]
  },
  {
   "cell_type": "code",
   "execution_count": 17,
   "metadata": {},
   "outputs": [
    {
     "name": "stdout",
     "output_type": "stream",
     "text": [
      "2584\n"
     ]
    }
   ],
   "source": [
    "print(fibonacci(18))"
   ]
  },
  {
   "cell_type": "code",
   "execution_count": null,
   "metadata": {},
   "outputs": [],
   "source": []
  },
  {
   "cell_type": "markdown",
   "metadata": {},
   "source": [
    "# Question 2:\n",
    "    \n",
    "        For this challenge you need to develop a Python program to open a file in read only mode and try\n",
    "        writing something to it and handle the subsequent errors using Exception Handling."
   ]
  },
  {
   "cell_type": "code",
   "execution_count": 20,
   "metadata": {},
   "outputs": [],
   "source": [
    "file = open(\"Assignment.txt\", \"w\")\n",
    "file.write(\" Hi this is Abhishek, i love Letsupgrade. Thanku for teaching so many things. \")\n",
    "file.close()"
   ]
  },
  {
   "cell_type": "code",
   "execution_count": 21,
   "metadata": {},
   "outputs": [
    {
     "name": "stdout",
     "output_type": "stream",
     "text": [
      " Hi this is Abhishek, i love Letsupgrade. Thanku for teaching so many things. \n"
     ]
    }
   ],
   "source": [
    "file = open(\"Assignment.txt\", \"r\")\n",
    "txtRead = file.read()\n",
    "print(txtRead)\n",
    "file.close()"
   ]
  },
  {
   "cell_type": "code",
   "execution_count": 25,
   "metadata": {},
   "outputs": [
    {
     "name": "stdout",
     "output_type": "stream",
     "text": [
      "\n",
      "Error has been occured\n",
      "\n",
      "Error message is :  not writable\n",
      "\n",
      "I will be a Rowdy in python\n"
     ]
    }
   ],
   "source": [
    "try:\n",
    "    file = open(\"Assignment.txt\", \"r\")\n",
    "    file.write(\" I'm Studing Online from Letsupgrade. \")\n",
    "    print(\"\\nWrite operation has done successfully in read only mode.\")\n",
    "    file.close()\n",
    "except Exception as e:\n",
    "    print(\"\\nError has been occured\")\n",
    "    \n",
    "    print(\"\\nError message is : \",e)\n",
    "finally:\n",
    "    print(\"\\nI will be a Rowdy in python\")"
   ]
  },
  {
   "cell_type": "code",
   "execution_count": null,
   "metadata": {},
   "outputs": [],
   "source": []
  }
 ],
 "metadata": {
  "kernelspec": {
   "display_name": "Python 3",
   "language": "python",
   "name": "python3"
  },
  "language_info": {
   "codemirror_mode": {
    "name": "ipython",
    "version": 3
   },
   "file_extension": ".py",
   "mimetype": "text/x-python",
   "name": "python",
   "nbconvert_exporter": "python",
   "pygments_lexer": "ipython3",
   "version": "3.7.3"
  }
 },
 "nbformat": 4,
 "nbformat_minor": 2
}
