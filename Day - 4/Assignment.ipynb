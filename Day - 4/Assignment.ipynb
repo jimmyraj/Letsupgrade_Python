# Question 1
# Print the first ArmStrong number in the range of 1042000 to 702648265 and exit the loop as soon
# as you encounter the first armstrong number.
# Use while loop
# Output

# The first armstrong number is -----------
    

lower = 1042000
upper = 702648265

for num in range(lower, upper+1):

    temp = num
    sum = 0
    order = len(str(num))
    while temp > 0:
        digit = temp % 10
        sum = sum + digit ** order
        temp = temp // 10

    if num == sum:
        print(num,"is the First Armstrong number")
        break

